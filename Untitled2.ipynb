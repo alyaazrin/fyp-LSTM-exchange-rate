{
 "cells": [
  {
   "cell_type": "code",
   "execution_count": 9,
   "metadata": {},
   "outputs": [
    {
     "data": {
      "text/html": [
       "<div>\n",
       "<style scoped>\n",
       "    .dataframe tbody tr th:only-of-type {\n",
       "        vertical-align: middle;\n",
       "    }\n",
       "\n",
       "    .dataframe tbody tr th {\n",
       "        vertical-align: top;\n",
       "    }\n",
       "\n",
       "    .dataframe thead th {\n",
       "        text-align: right;\n",
       "    }\n",
       "</style>\n",
       "<table border=\"1\" class=\"dataframe\">\n",
       "  <thead>\n",
       "    <tr style=\"text-align: right;\">\n",
       "      <th></th>\n",
       "      <th>Date</th>\n",
       "      <th>Price</th>\n",
       "      <th>Open</th>\n",
       "      <th>High</th>\n",
       "      <th>Low</th>\n",
       "      <th>Change %</th>\n",
       "    </tr>\n",
       "  </thead>\n",
       "  <tbody>\n",
       "    <tr>\n",
       "      <th>0</th>\n",
       "      <td>7/22/2005</td>\n",
       "      <td>3.7800</td>\n",
       "      <td>3.7996</td>\n",
       "      <td>3.8016</td>\n",
       "      <td>3.770</td>\n",
       "      <td>-0.53</td>\n",
       "    </tr>\n",
       "    <tr>\n",
       "      <th>1</th>\n",
       "      <td>7/25/2005</td>\n",
       "      <td>3.7510</td>\n",
       "      <td>3.7650</td>\n",
       "      <td>3.7670</td>\n",
       "      <td>3.745</td>\n",
       "      <td>-0.77</td>\n",
       "    </tr>\n",
       "    <tr>\n",
       "      <th>2</th>\n",
       "      <td>7/26/2005</td>\n",
       "      <td>3.7495</td>\n",
       "      <td>3.7480</td>\n",
       "      <td>3.7515</td>\n",
       "      <td>3.740</td>\n",
       "      <td>-0.04</td>\n",
       "    </tr>\n",
       "    <tr>\n",
       "      <th>3</th>\n",
       "      <td>7/27/2005</td>\n",
       "      <td>3.7512</td>\n",
       "      <td>3.7490</td>\n",
       "      <td>3.7607</td>\n",
       "      <td>3.745</td>\n",
       "      <td>0.05</td>\n",
       "    </tr>\n",
       "    <tr>\n",
       "      <th>4</th>\n",
       "      <td>7/28/2005</td>\n",
       "      <td>3.7510</td>\n",
       "      <td>3.7510</td>\n",
       "      <td>3.7600</td>\n",
       "      <td>3.745</td>\n",
       "      <td>-0.01</td>\n",
       "    </tr>\n",
       "  </tbody>\n",
       "</table>\n",
       "</div>"
      ],
      "text/plain": [
       "        Date   Price    Open    High    Low  Change %\n",
       "0  7/22/2005  3.7800  3.7996  3.8016  3.770     -0.53\n",
       "1  7/25/2005  3.7510  3.7650  3.7670  3.745     -0.77\n",
       "2  7/26/2005  3.7495  3.7480  3.7515  3.740     -0.04\n",
       "3  7/27/2005  3.7512  3.7490  3.7607  3.745      0.05\n",
       "4  7/28/2005  3.7510  3.7510  3.7600  3.745     -0.01"
      ]
     },
     "execution_count": 9,
     "metadata": {},
     "output_type": "execute_result"
    }
   ],
   "source": [
    "import numpy as np\n",
    "import matplotlib.pyplot as plt\n",
    "import pandas as pd\n",
    "from keras.models import Sequential\n",
    "from keras.layers import Dense\n",
    "from keras.layers import LSTM\n",
    "\n",
    "# Reading CSV file into training set\n",
    "training_set = pd.read_csv('alya_formatted_2.csv')\n",
    "training_set.head()\n",
    "\n"
   ]
  },
  {
   "cell_type": "code",
   "execution_count": null,
   "metadata": {},
   "outputs": [],
   "source": []
  }
 ],
 "metadata": {
  "anaconda-cloud": {},
  "kernelspec": {
   "display_name": "Python 2",
   "language": "python",
   "name": "python2"
  },
  "language_info": {
   "codemirror_mode": {
    "name": "ipython",
    "version": 2
   },
   "file_extension": ".py",
   "mimetype": "text/x-python",
   "name": "python",
   "nbconvert_exporter": "python",
   "pygments_lexer": "ipython2",
   "version": "2.7.14"
  }
 },
 "nbformat": 4,
 "nbformat_minor": 1
}
